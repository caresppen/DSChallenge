{
 "cells": [
  {
   "cell_type": "markdown",
   "metadata": {},
   "source": [
    "# Data Science Challenge"
   ]
  },
  {
   "cell_type": "markdown",
   "metadata": {},
   "source": [
    "## Exercise 1"
   ]
  },
  {
   "cell_type": "code",
   "execution_count": 1,
   "metadata": {},
   "outputs": [],
   "source": [
    "import pandas as pd"
   ]
  },
  {
   "cell_type": "code",
   "execution_count": 2,
   "metadata": {},
   "outputs": [],
   "source": [
    "root_bookings = 'challenge/bookings.csv.bz2'\n",
    "root_searches = 'challenge/searches.csv.bz2'"
   ]
  },
  {
   "cell_type": "code",
   "execution_count": 3,
   "metadata": {},
   "outputs": [],
   "source": [
    "BookingsFile = pd.read_csv(root_bookings, usecols=[0], sep='^', chunksize=10**6)\n",
    "chunks = [chunk for chunk in BookingsFile]\n",
    "df_bookings = pd.concat(chunks)"
   ]
  },
  {
   "cell_type": "code",
   "execution_count": 4,
   "metadata": {},
   "outputs": [],
   "source": [
    "SearchesFile = pd.read_csv(root_searches, usecols=[0], sep='^', chunksize=10**6)\n",
    "chunks = [chunk for chunk in SearchesFile]\n",
    "df_searches = pd.concat(chunks)"
   ]
  },
  {
   "cell_type": "code",
   "execution_count": 5,
   "metadata": {},
   "outputs": [
    {
     "name": "stdout",
     "output_type": "stream",
     "text": [
      "Number of lines of Bookings: 10,000,010\n",
      "Number of lines of Searches: 20,390,198\n"
     ]
    }
   ],
   "source": [
    "print(\"Number of lines of Bookings: {:,}\".format(df_bookings.shape[0]))\n",
    "print(\"Number of lines of Searches: {:,}\".format(df_searches.shape[0]))"
   ]
  }
 ],
 "metadata": {
  "kernelspec": {
   "display_name": "Python 3",
   "language": "python",
   "name": "python3"
  },
  "language_info": {
   "codemirror_mode": {
    "name": "ipython",
    "version": 3
   },
   "file_extension": ".py",
   "mimetype": "text/x-python",
   "name": "python",
   "nbconvert_exporter": "python",
   "pygments_lexer": "ipython3",
   "version": "3.8.5"
  }
 },
 "nbformat": 4,
 "nbformat_minor": 4
}
